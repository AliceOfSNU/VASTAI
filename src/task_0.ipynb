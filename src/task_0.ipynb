{
 "cells": [
  {
   "cell_type": "code",
   "execution_count": 5,
   "metadata": {},
   "outputs": [
    {
     "name": "stderr",
     "output_type": "stream",
     "text": [
      "/opt/conda/lib/python3.10/site-packages/tqdm/auto.py:21: TqdmWarning: IProgress not found. Please update jupyter and ipywidgets. See https://ipywidgets.readthedocs.io/en/stable/user_install.html\n",
      "  from .autonotebook import tqdm as notebook_tqdm\n"
     ]
    }
   ],
   "source": [
    "import torch\n",
    "import torch.nn as nn\n",
    "import pandas as pd\n",
    "\n",
    "from transformers import get_cosine_schedule_with_warmup\n",
    "from transformers import Blip2ForConditionalGeneration\n",
    "from transformers import Blip2Processor\n",
    "from transformers import Blip2Config\n",
    "import Dataset\n"
   ]
  },
  {
   "cell_type": "code",
   "execution_count": 7,
   "metadata": {},
   "outputs": [],
   "source": [
    "pre_process_chkpt = \"Salesforce/blip2-opt-2.7b\"\n",
    "processor = Blip2Processor.from_pretrained(pre_process_chkpt, torch_dtype = torch.float16)\n",
    "\n",
    "args= {\n",
    "    \"padding\" : \"longest\", #\"max_length\",\n",
    "    \"max_length\" : 16,\n",
    "    #\"mixed_precision\" : args.mixed_precision,#\"fp16\",\n",
    "    #\"cpu\": args.cpu, \n",
    "    \"image_resize\" : (256,256),\n",
    "    \"batch_size\" : 3, \n",
    "}\n"
   ]
  },
  {
   "cell_type": "markdown",
   "metadata": {},
   "source": [
    "## Let's work on data downloaded from internet"
   ]
  },
  {
   "cell_type": "code",
   "execution_count": 8,
   "metadata": {},
   "outputs": [
    {
     "name": "stdout",
     "output_type": "stream",
     "text": [
      "4\n"
     ]
    }
   ],
   "source": [
    "#https://huggingface.co/Salesforce/blip2-opt-2.7b\n",
    "import requests\n",
    "from PIL import Image\n",
    "device = \"cuda\" if torch.cuda.is_available() else \"cpu\"\n",
    "print(torch.cuda.device_count())\n",
    "\n"
   ]
  },
  {
   "cell_type": "code",
   "execution_count": 11,
   "metadata": {},
   "outputs": [
    {
     "name": "stdout",
     "output_type": "stream",
     "text": [
      "<class 'PIL.JpegImagePlugin.JpegImageFile'>\n"
     ]
    }
   ],
   "source": [
    "url = \"http://images.cocodataset.org/val2017/000000039769.jpg\"\n",
    "image = Image.open(requests.get(url, stream=True).raw)\n",
    "prompt = \"Question: how many cats are there? Answer:\"\n",
    "\n",
    "# dict {'pixel_values', 'input_ids', 'attention_mask'}\n",
    "inputs = processor(images=image, text=prompt, return_tensors=\"pt\").to(device=\"cuda\", dtype=torch.float16)\n",
    "print(type(image))\n",
    "PIL."
   ]
  },
  {
   "cell_type": "code",
   "execution_count": null,
   "metadata": {},
   "outputs": [],
   "source": [
    "encoding = processor(\n",
    "    images = images, \n",
    "    text = texts, \n",
    "    max_length = 16,\n",
    "    padding = \"longest\", \n",
    "    return_tensors = \"pt\",\n",
    "    pad_to_multiple_of = 8, \n",
    "    #truncation = True,\n",
    "    )"
   ]
  }
 ],
 "metadata": {
  "kernelspec": {
   "display_name": "base",
   "language": "python",
   "name": "python3"
  },
  "language_info": {
   "codemirror_mode": {
    "name": "ipython",
    "version": 3
   },
   "file_extension": ".py",
   "mimetype": "text/x-python",
   "name": "python",
   "nbconvert_exporter": "python",
   "pygments_lexer": "ipython3",
   "version": "3.10.11"
  }
 },
 "nbformat": 4,
 "nbformat_minor": 2
}
